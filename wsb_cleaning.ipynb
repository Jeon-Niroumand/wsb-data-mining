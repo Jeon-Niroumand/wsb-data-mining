{
 "cells": [
  {
   "cell_type": "code",
   "execution_count": 20,
   "id": "6423b374",
   "metadata": {},
   "outputs": [],
   "source": [
    "import pandas as pd\n",
    "from textblob import TextBlob\n",
    "from vaderSentiment.vaderSentiment import SentimentIntensityAnalyzer"
   ]
  },
  {
   "cell_type": "code",
   "execution_count": 8,
   "id": "f74e5df1",
   "metadata": {},
   "outputs": [],
   "source": [
    "#I am creating a dictionary here titled inputdata\n",
    "inputdata={}\n",
    "#I am assigning the content of the csv file to my dictionary\n",
    "#header is my row in the csv file that is why header is 0 below\n",
    "inputdata = pd.read_csv(\"wsb_comments_2024-10-11.csv\", header=[0])\n",
    "\n",
    "### I WANT TO CLEAN EMOJI/NON-ASCII TEXT BEFORE PROCESING\n",
    "#inputdata.Comment = inputdata['Comment'].apply(lambda s: emoji.replace_emoji(s, ''))\n",
    "inputdata = inputdata.to_dict()"
   ]
  },
  {
   "cell_type": "code",
   "execution_count": 15,
   "id": "fd34ef38",
   "metadata": {},
   "outputs": [],
   "source": [
    "#I am using the column headers from the csv file to find the data I am interested to analyze\n",
    "\n",
    "# I created a new dictionary here for the description column in my csv file\n",
    "commentdictionary = inputdata.get('Comment Body')\n",
    "#I am converting the decription from dictionary to a list for the sentiment analyses below\n",
    "commentlist =  list(commentdictionary.values)\n",
    "textblob_results_list=[]\n",
    "vader_results_list=[]"
   ]
  },
  {
   "cell_type": "code",
   "execution_count": 23,
   "id": "ffaa6ca3",
   "metadata": {},
   "outputs": [
    {
     "name": "stdout",
     "output_type": "stream",
     "text": [
      "done\n"
     ]
    }
   ],
   "source": [
    "for i in range(len(commentlist )):\n",
    "    #This is TextBlob Based Sentiment Analysis\n",
    "    textblob_analyze_polarity = TextBlob(commentlist [i]).polarity\n",
    "    textblob_analyze_subjectivity = TextBlob(commentlist [i]).subjectivity\n",
    "    #polarity values range from -1 to 1 where -1.0 is negative polarity and 1.0 is positive\n",
    "    #Subjectivity/objectivity  values range from 0.0 to 1.0 where 0.0 is very objective and 1.0 is very subjective\n",
    "    #print(\"Polarity: \", textblob_analyze_polarity)\n",
    "    #print(\"Subjectivity: \",textblob_analyze_subjectivity)\n",
    "\n",
    "    textblob_result = {\"TextBlob Polarity Score\":textblob_analyze_polarity,\"TextBlob Subjectivity Score\": textblob_analyze_subjectivity}\n",
    "    textblob_results_list.append(textblob_result)\n",
    "\n",
    "    #This is Vader Based Sentiment Analysis\n",
    "    #Vader provides 4 results labeled as negative, neutral, positive, and compound(overall)\n",
    "    vader_sentiment_analysis = SentimentIntensityAnalyzer().polarity_scores(commentlist [i])\n",
    "    vader_results_list.append(vader_sentiment_analysis)\n",
    "    #In Vader the compound score is the sum of positive, negative, and neutral scores which is then\n",
    "    #normalized between -1 [most extreme negative] and 1[most extreme positive]\n",
    "    #negative represents negative aspects of a tweet\n",
    "    #positive represents positive aspects of a tweet\n",
    "    #neutral represents neutral aspects of a tweet\n",
    "    #print(\"Polarity Scores in Vader: \", vader_sentiment_analysis)\n",
    "\n",
    "#This is the TextBlob Sentiment Analysis Results\n",
    "textblobresults = pd.DataFrame(textblob_results_list)\n",
    "\n",
    "#This is the Vader Sentiment Analysis Results\n",
    "vaderresults = pd.DataFrame(vader_results_list)\n",
    "#print(textblobresults['TextBlob Polarity Score'])\n",
    "#print(vaderresults['neg'])\n",
    "\n",
    "file = pd.read_csv(\"wsb_comments_2024-10-11.csv\")\n",
    "file['TextBlob Polarity Score'] = textblobresults['TextBlob Polarity Score']\n",
    "file['TextBlob Subjectivity Score'] = textblobresults['TextBlob Subjectivity Score']\n",
    "file['Vader Negative Polarity Score'] = vaderresults['neg']\n",
    "file['Vader Neutral Polarity Score'] = vaderresults['neu']\n",
    "file['Vader Positive Polarity Score'] = vaderresults['pos']\n",
    "file['Vader Compound Polarity Score'] = vaderresults['compound']\n",
    "\n",
    "#Index is false because example 1.csv file already has an index column\n",
    "file.to_csv('wsb_sentiment.csv', index=True, index_label=\"Index\")\n",
    "\n",
    "print(\"done\")"
   ]
  },
  {
   "cell_type": "code",
   "execution_count": 7,
   "id": "693ce24b",
   "metadata": {},
   "outputs": [
    {
     "name": "stdout",
     "output_type": "stream",
     "text": [
      "<class 'pandas.core.frame.DataFrame'>\n",
      "RangeIndex: 1975 entries, 0 to 1974\n",
      "Data columns (total 5 columns):\n",
      " #   Column        Non-Null Count  Dtype \n",
      "---  ------        --------------  ----- \n",
      " 0   Comment ID    1975 non-null   object\n",
      " 1   Username      1975 non-null   object\n",
      " 2   Comment Body  1975 non-null   object\n",
      " 3   Upvotes       1975 non-null   int64 \n",
      " 4   Date          1975 non-null   object\n",
      "dtypes: int64(1), object(4)\n",
      "memory usage: 77.3+ KB\n"
     ]
    }
   ],
   "source": [
    "df.info()"
   ]
  }
 ],
 "metadata": {
  "kernelspec": {
   "display_name": "Python 3 (ipykernel)",
   "language": "python",
   "name": "python3"
  },
  "language_info": {
   "codemirror_mode": {
    "name": "ipython",
    "version": 3
   },
   "file_extension": ".py",
   "mimetype": "text/x-python",
   "name": "python",
   "nbconvert_exporter": "python",
   "pygments_lexer": "ipython3",
   "version": "3.9.13"
  }
 },
 "nbformat": 4,
 "nbformat_minor": 5
}
